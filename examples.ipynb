{
 "cells": [
  {
   "cell_type": "code",
   "execution_count": null,
   "id": "8d650a63",
   "metadata": {},
   "outputs": [],
   "source": [
    "# imports\n",
    "import numpy as np\n",
    "import matplotlib.pyplot as plt\n",
    "from mdp_module import MDP, run_simulation\n"
   ]
  },
  {
   "cell_type": "code",
   "execution_count": null,
   "id": "70126144",
   "metadata": {},
   "outputs": [],
   "source": [
    "# Parameters for example 1\n",
    "num_states   = 3\n",
    "num_actions  = 2\n",
    "T            = 100\n",
    "s0           = 0\n",
    "P = np.zeros((num_states, num_actions, num_states))\n",
    "P[0,0] = [0.7,0.3,0.0]\n",
    "P[0,1] = [0.0,0.4,0.6]\n",
    "P[1,0] = [0.8,0.0,0.2]\n",
    "P[1,1] = [0.0,0.5,0.5]\n",
    "P[2,:,2] = 1.0\n",
    "\n",
    "R = np.zeros((num_states, num_actions))\n",
    "R[0,0], R[0,1] = 5.0, 1.0\n",
    "\n",
    "pi_b = np.array([[0.3,0.7],[0.8,0.2],[0.1,0.9]])\n",
    "pi_e = np.array([[0.5,0.5],[0.0,1.0],[0.0,1.0]])\n",
    "\n",
    "mdp = MDP(num_states, num_actions, T, s0, P, R, pi_b, pi_e)\n"
   ]
  },
  {
   "cell_type": "code",
   "execution_count": null,
   "id": "ff9492d5",
   "metadata": {},
   "outputs": [],
   "source": [
    "# Simulate and get data\n",
    "eif_vals, term_vals = run_simulation(mdp, n_trajectories=1000, seed=42)\n"
   ]
  },
  {
   "cell_type": "code",
   "execution_count": null,
   "id": "cdbfefc6",
   "metadata": {},
   "outputs": [],
   "source": [
    "# Histogram of EIF values\n",
    "plt.hist(eif_vals, bins=30)\n",
    "plt.title(\"Distribution of EIF Values\")\n",
    "plt.xlabel(\"EIF\")\n",
    "plt.ylabel(\"Frequency\")\n",
    "plt.show()\n"
   ]
  },
  {
   "cell_type": "code",
   "execution_count": null,
   "id": "a5df8c4b",
   "metadata": {},
   "outputs": [],
   "source": [
    "# Running average of EIF values\n",
    "running_avg = np.cumsum(term_vals) / np.arange(1, len(term_vals)+1)\n",
    "plt.plot(running_avg)\n",
    "plt.axhline(y=np.mean(term_vals), linestyle='--', label='Final estimate')\n",
    "plt.title(\"Running Average of EIF Estimate\")\n",
    "plt.xlabel(\"Trajectory #\")\n",
    "plt.ylabel(\"Estimate of ρ^πᵉ\")\n",
    "plt.legend()\n",
    "plt.show()\n"
   ]
  }
 ],
 "metadata": {
  "language_info": {
   "name": "python"
  }
 },
 "nbformat": 4,
 "nbformat_minor": 5
}
