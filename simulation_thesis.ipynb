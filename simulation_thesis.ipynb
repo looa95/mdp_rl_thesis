{
 "cells": [
  {
   "cell_type": "code",
   "execution_count": 1,
   "id": "ff5d4076",
   "metadata": {},
   "outputs": [],
   "source": [
    "import numpy as np\n",
    "import matplotlib.pyplot as plt\n",
    "from mdp_module import MDP, run_simulation\n",
    "import seaborn as sns"
   ]
  },
  {
   "cell_type": "code",
   "execution_count": 2,
   "id": "bb4ba225",
   "metadata": {},
   "outputs": [],
   "source": [
    "# Resource Allocation in Sidelink V2X: Example Notebook\n",
    "# This notebook demonstrates step-by-step how to simulate the 4-state MDP for V2X resource allocation.\""
   ]
  },
  {
   "cell_type": "code",
   "execution_count": 3,
   "id": "40897340",
   "metadata": {},
   "outputs": [],
   "source": [
    "# Define parameters for the MDP\n",
    "num_states  = 4  # s1=idle, s2=success, s3=collision, s4=unavailable\n",
    "num_actions = 3  # \n",
    "T=100 # Number of time steps\n",
    "s0=0  # Initial state idle\n",
    "gamma=1.0  # Discount factor (1.0 means no change at MDP)"
   ]
  },
  {
   "cell_type": "code",
   "execution_count": 4,
   "id": "9ce3ef30",
   "metadata": {},
   "outputs": [],
   "source": [
    "#Define probabilities\n",
    "P = np.zeros((num_states, num_actions, num_states))\n",
    "for a in range(num_actions):\n",
    "    P[0, a, 0] = 0.1  \n",
    "    P[0, a, 1] = 0.9  \n",
    "    P[1, a, 1] = 0.4 - 0.05 * a  \n",
    "    P[1, a, 2] = 0.6 + 0.05 * a  \n",
    "    P[2, a, 0] = 1.0  \n",
    "    P[3, a, 0] = 1.0"
   ]
  },
  {
   "cell_type": "code",
   "execution_count": 5,
   "id": "e0c162c4",
   "metadata": {},
   "outputs": [],
   "source": [
    "#Define rewards\n",
    "R = np.zeros((num_states, num_actions))\n",
    "for a in range(num_actions):\n",
    "    R[1, a] = 10.0  # s2: busy successful\n",
    "    R[2, a] = -5.0  # s3: collision"
   ]
  },
  {
   "cell_type": "code",
   "execution_count": 6,
   "id": "985ee3fe",
   "metadata": {},
   "outputs": [],
   "source": [
    "#Define policy\n",
    "pi_b = np.ones((num_states, num_actions)) / num_actions  \n",
    "pi_e = np.array([\n",
    "    [0.7, 0.2, 0.1],  \n",
    "    [0.7, 0.2, 0.1],\n",
    "    [0.5, 0.3, 0.2],  \n",
    "    [0.5, 0.3, 0.2]\n",
    "])"
   ]
  },
  {
   "cell_type": "code",
   "execution_count": 7,
   "id": "f133af7f",
   "metadata": {},
   "outputs": [],
   "source": [
    "def plot_results(results, namevar):\n",
    "    eif_vals = results['eif_vals']\n",
    "    cum_rewards_e = results['cum_rewards_e']\n",
    "    rho_true = results['rho_true']\n",
    "    avg_cum_e = results['avg_cum_e']\n",
    "    rho_drl = results['rho_drl']\n",
    "    term_vals = results['term_vals']\n",
    "    cum_rewards_b = results['cum_rewards_b']\n",
    "    \n",
    "    sns.set_style(\"darkgrid\")\n",
    "    sns.set_theme(style=\"ticks\", font_scale=1.25)\n",
    "    \n",
    "    # Histogram of EIF values\n",
    "    fig1 = plt.figure(figsize=(6, 4))\n",
    "    sns.histplot(eif_vals, bins=20, color='blue', kde=False)\n",
    "    plt.title('EIF Values Distribution')\n",
    "    plt.xlabel('EIF')\n",
    "    plt.ylabel('Frequency')\n",
    "    plt.savefig('eif_histogram.pdf', bbox_inches='tight')\n",
    "    plt.close(fig1)\n",
    "    \n",
    "    # Histogram of cumulative rewards under pi_e\n",
    "    fig2 = plt.figure(figsize=(6, 4))\n",
    "    sns.histplot(cum_rewards_e, bins=20, color='green', kde=False)\n",
    "    plt.title('Cumulative Rewards under π_e')\n",
    "    plt.xlabel('Cumulative Reward')\n",
    "    plt.ylabel('Frequency')\n",
    "    plt.savefig('cum_rewards_histogram'+namevar+'.pdf', bbox_inches='tight')\n",
    "    plt.close(fig2)\n",
    "    \n",
    "    # Bar plot of rho values\n",
    "    fig3 = plt.figure(figsize=(6, 4))\n",
    "    labels = ['True ρ', 'Empirical Avg (π_e)', 'DRL Est']\n",
    "    values = [rho_true, avg_cum_e, rho_drl]\n",
    "    sns.barplot(x=labels, y=values, palette=['red', 'orange', 'purple'])\n",
    "    plt.title('Comparison of Policy Values')\n",
    "    plt.ylabel('Value')\n",
    "    plt.ylim(min(values)*0.95, max(values)*1.05)  # Adjust y-axis limits for better visibility; fixed min/max for list\n",
    "    plt.axes\n",
    "    plt.savefig('policy_values_bar'+namevar+'.pdf', bbox_inches='tight')\n",
    "    plt.close(fig3)\n",
    "    \n",
    "    # Scatter plot of term_vals vs. cumulative rewards from behavior data\n",
    "    fig4 = plt.figure(figsize=(6, 4))\n",
    "    sns.scatterplot(x=cum_rewards_b, y=term_vals, alpha=0.5)\n",
    "    plt.title('Terms vs. Cum Rewards (Behavior Data)')\n",
    "    plt.xlabel('Cum Reward (Behavior)')\n",
    "    plt.ylabel('EIF Terms')\n",
    "    plt.savefig('terms_scatter'+namevar+'.pdf', bbox_inches='tight')\n",
    "    plt.close(fig4)\n",
    "    \n",
    "    # Running average of EIF terms with empirical rho\n",
    "    fig5 = plt.figure(figsize=(6, 4))\n",
    "    running_avg = np.cumsum(term_vals) / np.arange(1, len(term_vals) + 1)\n",
    "    sns.lineplot(x=range(len(running_avg)), y=running_avg, label='Running Avg Estimate (EIF Terms)')\n",
    "    running_avg_e = np.cumsum(cum_rewards_e) / np.arange(1, len(cum_rewards_e) + 1)\n",
    "    sns.lineplot(x=range(len(running_avg_e)), y=running_avg_e, label='Running Avg Empirical (π_e Rewards)')\n",
    "    plt.axhline(y=np.mean(term_vals), color='r', linestyle='--', label='Final Estimate (EIF)')\n",
    "    plt.axhline(y=avg_cum_e, color='g', linestyle='-', label='Empirical ρ (π_e Mean)')\n",
    "    plt.title('Running Average of EIF Estimate vs. Empirical')\n",
    "    plt.xlabel('Trajectory #')\n",
    "    plt.ylabel('Estimate of ρ^πᵉ')\n",
    "    plt.legend()\n",
    "    plt.savefig('running_average'+str(namevar)+'.pdf', bbox_inches='tight')\n",
    "    plt.close(fig5)"
   ]
  },
  {
   "cell_type": "code",
   "execution_count": 8,
   "id": "7f2e64a1",
   "metadata": {},
   "outputs": [],
   "source": [
    "def plot_results2(results, namevar):\n",
    "    eif_vals = results['eif_vals']\n",
    "    cum_rewards_e = results['cum_rewards_e']\n",
    "    rho_true = results['rho_true']\n",
    "    avg_cum_e = results['avg_cum_e']\n",
    "    rho_drl = results['rho_drl']\n",
    "    term_vals = results['term_vals']\n",
    "    cum_rewards_b = results['cum_rewards_b']\n",
    "    \n",
    "    sns.set_style(\"darkgrid\")\n",
    "    sns.set_theme(style=\"ticks\", font_scale=1.25)\n",
    "\n",
    "    fig, axs = plt.subplots(2, 2, figsize=(12, 8))\n",
    "    \n",
    "    # Histogram of EIF values\n",
    "    sns.histplot(eif_vals, bins=20, color='blue', kde=False, ax=axs[0, 0])\n",
    "    axs[0, 0].set_title('EIF Values Distribution')\n",
    "    axs[0, 0].set_xlabel('EIF')\n",
    "    axs[0, 0].set_ylabel('Frequency')\n",
    "\n",
    "    # Histogram of cumulative rewards under pi_e\n",
    "    sns.histplot(cum_rewards_e, bins=20, color='green', kde=False, ax=axs[0, 1])\n",
    "    axs[0, 1].set_title('Cumulative Rewards under π_e')\n",
    "    axs[0, 1].set_xlabel('Cumulative Reward')\n",
    "    axs[0, 1].set_ylabel('Frequency')\n",
    "    \n",
    "    # Bar plot of rho values\n",
    "    labels = ['True ρ', 'Empirical Avg (π_e)', 'DRL Est']\n",
    "    values = [rho_true, avg_cum_e, rho_drl]\n",
    "    sns.barplot(x=labels, y=values, palette=['red', 'orange', 'purple'], ax=axs[1, 0])\n",
    "    axs[1, 0].set_title('Comparison of Policy Values')\n",
    "    axs[1, 0].set_ylabel('Value')\n",
    "    axs[1, 0].set_ylim(min(values)*0.95, max(values)*1.05)  # Adjust y-axis limits for better visibility; fixed min/max for list\n",
    "\n",
    "    \n",
    "    # Scatter plot of term_vals vs. cumulative rewards from behavior data\n",
    "    sns.scatterplot(x=cum_rewards_b, y=term_vals, alpha=0.5, ax=axs[1, 1])\n",
    "    axs[1, 1].set_title('Terms vs. Cum Rewards (Behavior Data)')\n",
    "    axs[1, 1].set_xlabel('Cum Reward (Behavior)')\n",
    "    axs[1, 1].set_ylabel('EIF Terms')\n",
    "    \n",
    "    plt.tight_layout()\n",
    "    plt.savefig('grouped_plots'+str(namevar)+'.pdf', bbox_inches='tight')\n",
    "    plt.close(fig)"
   ]
  },
  {
   "cell_type": "code",
   "execution_count": 9,
   "id": "3c8d13c6",
   "metadata": {},
   "outputs": [
    {
     "name": "stdout",
     "output_type": "stream",
     "text": [
      "True rho^{pi^e}: 302.5405\n",
      "Empirical average cumulative reward under pi_e: 303.1150\n",
      "Average EIF: -2.3441\n",
      "EIF variance: 2347.7986\n",
      "Estimated rho from exact terms: 300.1964\n",
      "DRL estimate (est nuisances): 288.6000\n",
      "DRL variance (10 runs): 377.1128\n",
      "Efficiency bound (Var(EIF)/n): 2.3478\n",
      "DR with misspecified model (Q/V random, mu exact): 299.1285\n",
      "DR with misspecified weights (mu random, Q/V exact): 300.8342\n"
     ]
    }
   ],
   "source": [
    "#run sim simulation\n",
    "mdp = MDP(num_states, num_actions, T, s0, P, R, pi_b, pi_e, gamma)\n",
    "results=run_simulation(mdp, 1000, seed=20)"
   ]
  },
  {
   "cell_type": "code",
   "execution_count": 10,
   "id": "b0aa7228",
   "metadata": {},
   "outputs": [
    {
     "name": "stderr",
     "output_type": "stream",
     "text": [
      "/var/folders/ly/jqp21h79689gdfzrwpydsm4mgt6yr8/T/ipykernel_65422/4048599641.py:35: FutureWarning: \n",
      "\n",
      "Passing `palette` without assigning `hue` is deprecated and will be removed in v0.14.0. Assign the `x` variable to `hue` and set `legend=False` for the same effect.\n",
      "\n",
      "  sns.barplot(x=labels, y=values, palette=['red', 'orange', 'purple'])\n"
     ]
    }
   ],
   "source": [
    "plot_results(results, \"3\")"
   ]
  },
  {
   "cell_type": "code",
   "execution_count": 11,
   "id": "f1b2843e",
   "metadata": {},
   "outputs": [
    {
     "name": "stderr",
     "output_type": "stream",
     "text": [
      "/var/folders/ly/jqp21h79689gdfzrwpydsm4mgt6yr8/T/ipykernel_65422/3208738344.py:30: FutureWarning: \n",
      "\n",
      "Passing `palette` without assigning `hue` is deprecated and will be removed in v0.14.0. Assign the `x` variable to `hue` and set `legend=False` for the same effect.\n",
      "\n",
      "  sns.barplot(x=labels, y=values, palette=['red', 'orange', 'purple'], ax=axs[1, 0])\n"
     ]
    }
   ],
   "source": [
    "plot_results2(results, \"3\")"
   ]
  }
 ],
 "metadata": {
  "kernelspec": {
   "display_name": "Python 3",
   "language": "python",
   "name": "python3"
  },
  "language_info": {
   "codemirror_mode": {
    "name": "ipython",
    "version": 3
   },
   "file_extension": ".py",
   "mimetype": "text/x-python",
   "name": "python",
   "nbconvert_exporter": "python",
   "pygments_lexer": "ipython3",
   "version": "3.10.14"
  }
 },
 "nbformat": 4,
 "nbformat_minor": 5
}
