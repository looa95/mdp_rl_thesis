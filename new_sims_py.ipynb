{
 "cells": [
  {
   "cell_type": "code",
   "execution_count": null,
   "id": "d16c8e7c",
   "metadata": {},
   "outputs": [],
   "source": []
  },
  {
   "cell_type": "code",
   "execution_count": null,
   "id": "c3e051c9",
   "metadata": {},
   "outputs": [
    {
     "ename": "ModuleNotFoundError",
     "evalue": "No module named 'caas_jupyter_tools'",
     "output_type": "error",
     "traceback": [
      "\u001b[0;31m---------------------------------------------------------------------------\u001b[0m",
      "\u001b[0;31mModuleNotFoundError\u001b[0m                       Traceback (most recent call last)",
      "Cell \u001b[0;32mIn[1], line 10\u001b[0m\n\u001b[1;32m      8\u001b[0m \u001b[38;5;28;01mimport\u001b[39;00m\u001b[38;5;250m \u001b[39m\u001b[38;5;21;01mmulti_agent_highway_sql\u001b[39;00m\u001b[38;5;250m \u001b[39m\u001b[38;5;28;01mas\u001b[39;00m\u001b[38;5;250m \u001b[39m\u001b[38;5;21;01mhighway_mod\u001b[39;00m\n\u001b[1;32m      9\u001b[0m \u001b[38;5;28;01mimport\u001b[39;00m\u001b[38;5;250m \u001b[39m\u001b[38;5;21;01mpandas\u001b[39;00m\u001b[38;5;250m \u001b[39m\u001b[38;5;28;01mas\u001b[39;00m\u001b[38;5;250m \u001b[39m\u001b[38;5;21;01mpd\u001b[39;00m\n\u001b[0;32m---> 10\u001b[0m \u001b[38;5;28;01mfrom\u001b[39;00m\u001b[38;5;250m \u001b[39m\u001b[38;5;21;01mcaas_jupyter_tools\u001b[39;00m\u001b[38;5;250m \u001b[39m\u001b[38;5;28;01mimport\u001b[39;00m display_dataframe_to_user\n",
      "\u001b[0;31mModuleNotFoundError\u001b[0m: No module named 'caas_jupyter_tools'"
     ]
    }
   ],
   "source": [
    "import numpy as np\n",
    "import matplotlib.pyplot as plt\n",
    "from matplotlib.animation import FuncAnimation, PillowWriter\n",
    "import sqlite3\n",
    "import importlib.util, sys\n",
    "from pathlib import Path\n",
    "import mdp_module as mdp_mod\n",
    "import multi_agent_highway_sql as highway_mod"
   ]
  },
  {
   "cell_type": "code",
   "execution_count": null,
   "id": "c6af686f",
   "metadata": {},
   "outputs": [],
   "source": [
    "# ----------------------------------------------------------------------\n",
    "# Parameters\n",
    "# ----------------------------------------------------------------------\n",
    "N = 30\n",
    "T = 150\n",
    "seed = 7\n",
    "\n",
    "# Geometry\n",
    "num_lanes_total = 4\n",
    "lane_directions = [1, 1, -1, -1]\n",
    "lane_width = 3.75\n",
    "interference_max_range = 500.0\n",
    "\n",
    "# Radio / propagation\n",
    "noise_mw = 1e-9\n",
    "pathloss_n_los = 2.0\n",
    "pathloss_n_nlos = 3.5\n",
    "desired_link_distance_m = 10.0\n",
    "\n",
    "# Initial spacing\n",
    "min_initial_gap = 2.0\n",
    "\n",
    "\n",
    "#sql database\n",
    "bler_table_path = str('sinr_bler_lookup_table.csv')"
   ]
  },
  {
   "cell_type": "code",
   "execution_count": null,
   "id": "fe77c3d3",
   "metadata": {},
   "outputs": [],
   "source": [
    "env=highway_mod.HighwayMultiAgentEnvSQL(num_agents=N, T=T, seed=seed, bler_table_path=bler_table_path, num_lanes_total=num_lanes_total, lane_directions=lane_directions, lane_width=lane_width, interference_max_range=  interference_max_range)\n"
   ]
  },
  {
   "cell_type": "code",
   "execution_count": null,
   "id": "4ea904d1",
   "metadata": {},
   "outputs": [],
   "source": [
    "print(env.bler_table is not None) # True if CSV loaded correctly\n",
    "print(env._bler_points is not None) # True if points DataFrame exists"
   ]
  },
  {
   "cell_type": "code",
   "execution_count": null,
   "id": "26437b71",
   "metadata": {},
   "outputs": [],
   "source": [
    "out=highway_mod.simulate_highway_multiagent_sql(N=N, T=T, seed=seed, bler_table_path=bler_table_path, num_lanes_total=num_lanes_total, lane_directions=lane_directions, lane_width=lane_width, interference_max_range=  interference_max_range)\n"
   ]
  },
  {
   "cell_type": "code",
   "execution_count": null,
   "id": "ae211052",
   "metadata": {},
   "outputs": [],
   "source": [
    "# Extract series\n",
    "t = np.arange(len(out[\"avg_rew_b\"]))\n",
    "avg_rew_b = out[\"avg_rew_b\"]\n",
    "avg_rew_e = out[\"avg_rew_e\"]\n",
    "succ_b, coll_b, unav_b = out[\"succ_b\"], out[\"coll_b\"], out[\"unav_b\"]\n",
    "succ_e, coll_e, unav_e = out[\"succ_e\"], out[\"coll_e\"], out[\"unav_e\"]\n",
    "\n",
    "# Plot 1: Average Reward over Time\n",
    "plt.figure()\n",
    "plt.plot(t, avg_rew_b, label=\"behavior\")\n",
    "plt.plot(t, avg_rew_e, label=\"evaluation\")\n",
    "plt.xlabel(\"t\")\n",
    "plt.ylabel(\"avg reward\")\n",
    "plt.title(\"Average Reward over Time\")\n",
    "plt.legend()\n",
    "plt.tight_layout()\n"
   ]
  },
  {
   "cell_type": "code",
   "execution_count": null,
   "id": "938a1e3e",
   "metadata": {},
   "outputs": [],
   "source": [
    "# Plot 2: Label Rates (Behavior)\n",
    "plt.figure()\n",
    "plt.plot(t, succ_b, label=\"success\")\n",
    "plt.plot(t, coll_b, label=\"collision\")\n",
    "plt.plot(t, unav_b, label=\"unavailable\")\n",
    "plt.xlabel(\"t\")\n",
    "plt.ylabel(\"rate\")\n",
    "plt.title(\"Label Rates (Behavior Policy)\")\n",
    "plt.legend()\n",
    "plt.tight_layout()\n"
   ]
  }
 ],
 "metadata": {
  "kernelspec": {
   "display_name": "base",
   "language": "python",
   "name": "python3"
  },
  "language_info": {
   "codemirror_mode": {
    "name": "ipython",
    "version": 3
   },
   "file_extension": ".py",
   "mimetype": "text/x-python",
   "name": "python",
   "nbconvert_exporter": "python",
   "pygments_lexer": "ipython3",
   "version": "3.10.14"
  }
 },
 "nbformat": 4,
 "nbformat_minor": 5
}
