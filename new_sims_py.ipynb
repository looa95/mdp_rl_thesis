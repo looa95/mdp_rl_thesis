{
 "cells": [
  {
   "cell_type": "code",
   "execution_count": null,
   "id": "d16c8e7c",
   "metadata": {},
   "outputs": [],
   "source": []
  },
  {
   "cell_type": "code",
   "execution_count": 1,
   "id": "c3e051c9",
   "metadata": {},
   "outputs": [],
   "source": [
    "import numpy as np\n",
    "import matplotlib.pyplot as plt\n",
    "from matplotlib.animation import FuncAnimation, PillowWriter\n",
    "import sqlite3\n",
    "import importlib.util, sys\n",
    "from pathlib import Path\n",
    "import mdp_module as mdp_mod\n",
    "import multi_agent_highway_sql as highway_mod"
   ]
  },
  {
   "cell_type": "code",
   "execution_count": 2,
   "id": "c6af686f",
   "metadata": {},
   "outputs": [],
   "source": [
    "# ----------------------------------------------------------------------\n",
    "# Parameters\n",
    "# ----------------------------------------------------------------------\n",
    "N = 30\n",
    "T = 150\n",
    "seed = 7\n",
    "\n",
    "# Geometry\n",
    "num_lanes_total = 4\n",
    "lane_directions = [1, 1, -1, -1]\n",
    "lane_width = 3.75\n",
    "interference_max_range = 500.0\n",
    "\n",
    "# Radio / propagation\n",
    "noise_mw = 1e-9\n",
    "pathloss_n_los = 2.0\n",
    "pathloss_n_nlos = 3.5\n",
    "desired_link_distance_m = 10.0\n",
    "\n",
    "# Initial spacing\n",
    "min_initial_gap = 2.0\n",
    "\n",
    "\n",
    "#sql database\n",
    "bler_table_path = str('sinr_bler_lookup_table.csv')"
   ]
  },
  {
   "cell_type": "code",
   "execution_count": 4,
   "id": "fe77c3d3",
   "metadata": {},
   "outputs": [],
   "source": [
    "env=highway_mod.HighwayMultiAgentEnvSQL(num_agents=N, T=T, seed=seed, bler_table_path=bler_table_path, num_lanes_total=num_lanes_total, lane_directions=lane_directions, lane_width=lane_width, interference_max_range=  interference_max_range)\n"
   ]
  },
  {
   "cell_type": "code",
   "execution_count": null,
   "id": "4ea904d1",
   "metadata": {},
   "outputs": [
    {
     "ename": "AssertionError",
     "evalue": "",
     "output_type": "error",
     "traceback": [
      "\u001b[0;31m---------------------------------------------------------------------------\u001b[0m",
      "\u001b[0;31mAssertionError\u001b[0m                            Traceback (most recent call last)",
      "Cell \u001b[0;32mIn[6], line 2\u001b[0m\n\u001b[1;32m      1\u001b[0m \u001b[38;5;28;01massert\u001b[39;00m env\u001b[38;5;241m.\u001b[39mbler_table \u001b[38;5;129;01mis\u001b[39;00m \u001b[38;5;129;01mnot\u001b[39;00m \u001b[38;5;28;01mNone\u001b[39;00m\n\u001b[0;32m----> 2\u001b[0m \u001b[38;5;28;01massert\u001b[39;00m env\u001b[38;5;241m.\u001b[39m_bler_points \u001b[38;5;129;01mis\u001b[39;00m \u001b[38;5;129;01mnot\u001b[39;00m \u001b[38;5;28;01mNone\u001b[39;00m\n",
      "\u001b[0;31mAssertionError\u001b[0m: "
     ]
    }
   ],
   "source": [
    "print(env.bler_table is not None) # True if CSV loaded correctly\n",
    "print(env._bler_points is not None) # True if points DataFrame exists"
   ]
  }
 ],
 "metadata": {
  "kernelspec": {
   "display_name": "base",
   "language": "python",
   "name": "python3"
  },
  "language_info": {
   "codemirror_mode": {
    "name": "ipython",
    "version": 3
   },
   "file_extension": ".py",
   "mimetype": "text/x-python",
   "name": "python",
   "nbconvert_exporter": "python",
   "pygments_lexer": "ipython3",
   "version": "3.10.14"
  }
 },
 "nbformat": 4,
 "nbformat_minor": 5
}
