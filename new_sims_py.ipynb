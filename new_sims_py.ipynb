{
 "cells": [
  {
   "cell_type": "code",
   "execution_count": null,
   "id": "d16c8e7c",
   "metadata": {},
   "outputs": [],
   "source": []
  },
  {
   "cell_type": "code",
   "execution_count": 7,
   "id": "c3e051c9",
   "metadata": {},
   "outputs": [],
   "source": [
    "import numpy as np\n",
    "import matplotlib.pyplot as plt\n",
    "from matplotlib.animation import FuncAnimation, PillowWriter\n",
    "import sqlite3\n",
    "import importlib.util, sys\n",
    "from pathlib import Path\n",
    "import mdp_module as mdp_mod\n",
    "import multi_agent_highway_sql as highway_mod"
   ]
  },
  {
   "cell_type": "code",
   "execution_count": 8,
   "id": "c6af686f",
   "metadata": {},
   "outputs": [],
   "source": [
    "# ----------------------------------------------------------------------\n",
    "# Parameters\n",
    "# ----------------------------------------------------------------------\n",
    "N = 30\n",
    "T = 150\n",
    "seed = 7\n",
    "\n",
    "# Geometry\n",
    "num_lanes_total = 4\n",
    "lane_directions = [1, 1, -1, -1]\n",
    "lane_width = 3.75\n",
    "interference_max_range = 500.0\n",
    "\n",
    "# Radio / propagation\n",
    "noise_mw = 1e-9\n",
    "pathloss_n_los = 2.0\n",
    "pathloss_n_nlos = 3.5\n",
    "desired_link_distance_m = 10.0\n",
    "\n",
    "# Initial spacing\n",
    "min_initial_gap = 2.0\n",
    "\n",
    "\n",
    "#sql database\n",
    "bler_table_path = str('sinr_bler_lookup_table.csv')"
   ]
  },
  {
   "cell_type": "code",
   "execution_count": 9,
   "id": "fe77c3d3",
   "metadata": {},
   "outputs": [
    {
     "ename": "AttributeError",
     "evalue": "'HighwayMultiAgentEnvSQL' object has no attribute '_bler_points'",
     "output_type": "error",
     "traceback": [
      "\u001b[0;31m---------------------------------------------------------------------------\u001b[0m",
      "\u001b[0;31mAttributeError\u001b[0m                            Traceback (most recent call last)",
      "Cell \u001b[0;32mIn[9], line 1\u001b[0m\n\u001b[0;32m----> 1\u001b[0m out\u001b[38;5;241m=\u001b[39m\u001b[43mhighway_mod\u001b[49m\u001b[38;5;241;43m.\u001b[39;49m\u001b[43msimulate_highway_multiagent_sql\u001b[49m\u001b[43m(\u001b[49m\u001b[43mN\u001b[49m\u001b[38;5;241;43m=\u001b[39;49m\u001b[43mN\u001b[49m\u001b[43m,\u001b[49m\u001b[43m \u001b[49m\u001b[43mT\u001b[49m\u001b[38;5;241;43m=\u001b[39;49m\u001b[43mT\u001b[49m\u001b[43m,\u001b[49m\u001b[43m \u001b[49m\u001b[43mseed\u001b[49m\u001b[38;5;241;43m=\u001b[39;49m\u001b[43mseed\u001b[49m\u001b[43m,\u001b[49m\u001b[43m \u001b[49m\u001b[43mbler_table_path\u001b[49m\u001b[38;5;241;43m=\u001b[39;49m\u001b[43mbler_table_path\u001b[49m\u001b[43m,\u001b[49m\u001b[43m \u001b[49m\u001b[43mnum_lanes_total\u001b[49m\u001b[38;5;241;43m=\u001b[39;49m\u001b[43mnum_lanes_total\u001b[49m\u001b[43m,\u001b[49m\u001b[43m \u001b[49m\u001b[43mlane_directions\u001b[49m\u001b[38;5;241;43m=\u001b[39;49m\u001b[43mlane_directions\u001b[49m\u001b[43m,\u001b[49m\u001b[43m \u001b[49m\u001b[43mlane_width\u001b[49m\u001b[38;5;241;43m=\u001b[39;49m\u001b[43mlane_width\u001b[49m\u001b[43m,\u001b[49m\u001b[43m \u001b[49m\u001b[43minterference_max_range\u001b[49m\u001b[38;5;241;43m=\u001b[39;49m\u001b[43m  \u001b[49m\u001b[43minterference_max_range\u001b[49m\u001b[43m)\u001b[49m\n",
      "File \u001b[0;32m~/Documents/Gitlab/mdp_rl_thesis/multi_agent_highway_sql.py:582\u001b[0m, in \u001b[0;36msimulate_highway_multiagent_sql\u001b[0;34m(N, T, seed, db_path, bler_table_path, interference_max_range, num_lanes_total, lane_width, lane_directions, store_history)\u001b[0m\n\u001b[1;32m    559\u001b[0m \u001b[38;5;28;01mdef\u001b[39;00m\u001b[38;5;250m \u001b[39m\u001b[38;5;21msimulate_highway_multiagent_sql\u001b[39m(\n\u001b[1;32m    560\u001b[0m     N: \u001b[38;5;28mint\u001b[39m \u001b[38;5;241m=\u001b[39m \u001b[38;5;241m20\u001b[39m, T: \u001b[38;5;28mint\u001b[39m \u001b[38;5;241m=\u001b[39m \u001b[38;5;241m100\u001b[39m, seed: \u001b[38;5;28mint\u001b[39m \u001b[38;5;241m=\u001b[39m \u001b[38;5;241m20\u001b[39m,\n\u001b[1;32m    561\u001b[0m     db_path: \u001b[38;5;28mstr\u001b[39m \u001b[38;5;241m=\u001b[39m \u001b[38;5;124m\"\u001b[39m\u001b[38;5;124mradio_model.db\u001b[39m\u001b[38;5;124m\"\u001b[39m,\n\u001b[0;32m   (...)\u001b[0m\n\u001b[1;32m    575\u001b[0m     min_initial_gap: \u001b[38;5;28mfloat\u001b[39m \u001b[38;5;241m=\u001b[39m \u001b[38;5;241m2.0\u001b[39m         \u001b[38;5;66;03m# meters; ≥2 m within each lane at t=0\u001b[39;00m\n\u001b[1;32m    576\u001b[0m ) \u001b[38;5;241m-\u001b[39m\u001b[38;5;241m>\u001b[39m \u001b[38;5;28mdict\u001b[39m:\n\u001b[1;32m    577\u001b[0m \u001b[38;5;250m    \u001b[39m\u001b[38;5;124;03m\"\"\"\u001b[39;00m\n\u001b[1;32m    578\u001b[0m \u001b[38;5;124;03m    Runs one rollout with behavior policy and one with evaluation policy.\u001b[39;00m\n\u001b[1;32m    579\u001b[0m \u001b[38;5;124;03m    Returns time series of avg rewards and label rates, raw histories, and geometry summaries.\u001b[39;00m\n\u001b[1;32m    580\u001b[0m \u001b[38;5;124;03m    \"\"\"\u001b[39;00m\n\u001b[1;32m    581\u001b[0m     env \u001b[38;5;241m=\u001b[39m HighwayMultiAgentEnvSQL(\n\u001b[0;32m--> 582\u001b[0m         num_agents\u001b[38;5;241m=\u001b[39mN, T\u001b[38;5;241m=\u001b[39mT, seed\u001b[38;5;241m=\u001b[39mseed, db_path\u001b[38;5;241m=\u001b[39mdb_path, bler_table_path\u001b[38;5;241m=\u001b[39mbler_table_path, \n\u001b[1;32m    583\u001b[0m         interference_max_range\u001b[38;5;241m=\u001b[39minterference_max_range,\n\u001b[1;32m    584\u001b[0m         num_lanes_total\u001b[38;5;241m=\u001b[39mnum_lanes_total, lane_width\u001b[38;5;241m=\u001b[39mlane_width, noise_mw\u001b[38;5;241m=\u001b[39mnoise_mw,\n\u001b[1;32m    585\u001b[0m         p_block_unavailable\u001b[38;5;241m=\u001b[39mp_block_unavailable, tx_power_dbm\u001b[38;5;241m=\u001b[39mtx_power_dbm,\n\u001b[1;32m    586\u001b[0m         pathloss_n_los\u001b[38;5;241m=\u001b[39mpathloss_n_los, pathloss_n_nlos\u001b[38;5;241m=\u001b[39mpathloss_n_nlos,\n\u001b[1;32m    587\u001b[0m         desired_link_distance_m\u001b[38;5;241m=\u001b[39mdesired_link_distance_m,\n\u001b[1;32m    588\u001b[0m         min_initial_gap\u001b[38;5;241m=\u001b[39mmin_initial_gap,   \n\u001b[1;32m    589\u001b[0m         lane_directions\u001b[38;5;241m=\u001b[39mlane_directions, store_history\u001b[38;5;241m=\u001b[39mstore_history\n\u001b[1;32m    590\u001b[0m     )\n\u001b[1;32m    591\u001b[0m     pi_b \u001b[38;5;241m=\u001b[39m behavior_policy()\n\u001b[1;32m    592\u001b[0m     pi_e \u001b[38;5;241m=\u001b[39m evaluation_policy()\n",
      "File \u001b[0;32m~/Documents/Gitlab/mdp_rl_thesis/multi_agent_highway_sql.py:463\u001b[0m, in \u001b[0;36mHighwayMultiAgentEnvSQL.rollout\u001b[0;34m(self, policies)\u001b[0m\n\u001b[1;32m    461\u001b[0m     pi \u001b[38;5;241m=\u001b[39m policies[i][\u001b[38;5;28mself\u001b[39m\u001b[38;5;241m.\u001b[39ms[i]]\n\u001b[1;32m    462\u001b[0m     acts[i] \u001b[38;5;241m=\u001b[39m np\u001b[38;5;241m.\u001b[39mrandom\u001b[38;5;241m.\u001b[39mchoice(\u001b[38;5;241m3\u001b[39m, p\u001b[38;5;241m=\u001b[39mpi)\n\u001b[0;32m--> 463\u001b[0m obs, r, done, info \u001b[38;5;241m=\u001b[39m \u001b[38;5;28mself\u001b[39m\u001b[38;5;241m.\u001b[39mstep(acts)\n\u001b[1;32m    464\u001b[0m actions_hist\u001b[38;5;241m.\u001b[39mappend(acts\u001b[38;5;241m.\u001b[39mcopy())\n\u001b[1;32m    465\u001b[0m rewards_hist\u001b[38;5;241m.\u001b[39mappend(r\u001b[38;5;241m.\u001b[39mcopy())\n",
      "File \u001b[0;32m~/Documents/Gitlab/mdp_rl_thesis/multi_agent_highway_sql.py:420\u001b[0m, in \u001b[0;36mHighwayMultiAgentEnvSQL.step\u001b[0;34m(self, actions)\u001b[0m\n\u001b[1;32m    418\u001b[0m \u001b[38;5;66;03m# 2) Else try interpolation\u001b[39;00m\n\u001b[1;32m    419\u001b[0m \u001b[38;5;28;01mif\u001b[39;00m p_success \u001b[38;5;129;01mis\u001b[39;00m \u001b[38;5;28;01mNone\u001b[39;00m:\n\u001b[0;32m--> 420\u001b[0m     p_success \u001b[38;5;241m=\u001b[39m \u001b[38;5;28mself\u001b[39m\u001b[38;5;241m.\u001b[39m_p_success_from_snr_interp(ai, sinr_db)\n\u001b[1;32m    421\u001b[0m \u001b[38;5;66;03m# 3) If still None, conservative default = 0\u001b[39;00m\n\u001b[1;32m    422\u001b[0m \u001b[38;5;28;01mif\u001b[39;00m p_success \u001b[38;5;129;01mis\u001b[39;00m \u001b[38;5;28;01mNone\u001b[39;00m:\n",
      "File \u001b[0;32m~/Documents/Gitlab/mdp_rl_thesis/multi_agent_highway_sql.py:204\u001b[0m, in \u001b[0;36mHighwayMultiAgentEnvSQL._p_success_from_snr_interp\u001b[0;34m(self, resource, snr_db)\u001b[0m\n\u001b[1;32m    196\u001b[0m \u001b[38;5;250m\u001b[39m\u001b[38;5;124;03m\"\"\"\u001b[39;00m\n\u001b[1;32m    197\u001b[0m \u001b[38;5;124;03mLinearly interpolate P(success) from 'snr_success_curve' points.\u001b[39;00m\n\u001b[1;32m    198\u001b[0m \u001b[38;5;124;03mRequires at least one point on each side to interpolate; otherwise uses nearest.\u001b[39;00m\n\u001b[1;32m    199\u001b[0m \u001b[38;5;124;03mSchema:\u001b[39;00m\n\u001b[1;32m    200\u001b[0m \u001b[38;5;124;03m  snr_success_curve(resource INTEGER, snr_db REAL, p_success REAL)\u001b[39;00m\n\u001b[1;32m    201\u001b[0m \u001b[38;5;124;03m\"\"\"\u001b[39;00m\n\u001b[1;32m    203\u001b[0m \u001b[38;5;66;03m# Mode 1 only a table\u001b[39;00m\n\u001b[0;32m--> 204\u001b[0m \u001b[38;5;28;01mif\u001b[39;00m \u001b[38;5;28mself\u001b[39m\u001b[38;5;241m.\u001b[39m_bler_points \u001b[38;5;129;01mis\u001b[39;00m \u001b[38;5;129;01mnot\u001b[39;00m \u001b[38;5;28;01mNone\u001b[39;00m:\n\u001b[1;32m    205\u001b[0m     df \u001b[38;5;241m=\u001b[39m \u001b[38;5;28mself\u001b[39m\u001b[38;5;241m.\u001b[39m_bler_points[\u001b[38;5;28mself\u001b[39m\u001b[38;5;241m.\u001b[39m_bler_points[\u001b[38;5;124m\"\u001b[39m\u001b[38;5;124mresource\u001b[39m\u001b[38;5;124m\"\u001b[39m] \u001b[38;5;241m==\u001b[39m resource]\n\u001b[1;32m    206\u001b[0m     \u001b[38;5;28;01mif\u001b[39;00m df\u001b[38;5;241m.\u001b[39mempty:\n",
      "\u001b[0;31mAttributeError\u001b[0m: 'HighwayMultiAgentEnvSQL' object has no attribute '_bler_points'"
     ]
    }
   ],
   "source": [
    "out=highway_mod.simulate_highway_multiagent_sql(N=N, T=T, seed=seed, bler_table_path=bler_table_path, num_lanes_total=num_lanes_total, lane_directions=lane_directions, lane_width=lane_width, interference_max_range=  interference_max_range)\n"
   ]
  }
 ],
 "metadata": {
  "kernelspec": {
   "display_name": "base",
   "language": "python",
   "name": "python3"
  },
  "language_info": {
   "codemirror_mode": {
    "name": "ipython",
    "version": 3
   },
   "file_extension": ".py",
   "mimetype": "text/x-python",
   "name": "python",
   "nbconvert_exporter": "python",
   "pygments_lexer": "ipython3",
   "version": "3.10.14"
  }
 },
 "nbformat": 4,
 "nbformat_minor": 5
}
